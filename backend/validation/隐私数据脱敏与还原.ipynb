{
 "cells": [
  {
   "cell_type": "code",
   "id": "initial_id",
   "metadata": {
    "collapsed": true,
    "ExecuteTime": {
     "end_time": "2025-05-24T03:19:29.828407Z",
     "start_time": "2025-05-24T03:19:29.824431Z"
    }
   },
   "source": [
    "import numpy as np\n",
    "from sklearn.feature_extraction.text import TfidfVectorizer\n",
    "\n",
    "# 示例文本分块（包含数值型字段）\n",
    "text_chunks = [\n",
    "    \"user_age:25 diagnosis:diabetes\",\n",
    "    \"user_age:34 diagnosis:hypertension\",\n",
    "    \"user_age:19 diagnosis:normal\",\n",
    "    \"user_age:21101010118 diagnosis:hypertension\"\n",
    "]\n",
    "\n",
    "# 提取数值型特征（年龄、疾病标签编码）\n",
    "def extract_numeric_features(texts):\n",
    "    ages = []\n",
    "    diagnoses = []\n",
    "    for text in texts:\n",
    "        parts = text.split()\n",
    "        age = int(parts[0].split(\":\")[1])\n",
    "        diagnosis = 1 if \"diabetes\" in text else 0  # 简化疾病编码\n",
    "        ages.append(age)\n",
    "        diagnoses.append(diagnosis)\n",
    "    return np.array([ages, diagnoses]).T\n",
    "\n",
    "features = extract_numeric_features(text_chunks)\n",
    "print(\"原始特征矩阵:\\n\", features)"
   ],
   "outputs": [
    {
     "name": "stdout",
     "output_type": "stream",
     "text": [
      "原始特征矩阵:\n",
      " [[         25           1]\n",
      " [         34           0]\n",
      " [         19           0]\n",
      " [21101010118           0]]\n"
     ]
    }
   ],
   "execution_count": 8
  },
  {
   "metadata": {
    "ExecuteTime": {
     "end_time": "2025-05-24T03:19:38.781794Z",
     "start_time": "2025-05-24T03:19:38.777772Z"
    }
   },
   "cell_type": "code",
   "source": [
    "class LaplaceDP:\n",
    "    def __init__(self, epsilon, sensitivity=1):\n",
    "        self.epsilon = epsilon\n",
    "        self.sensitivity = sensitivity  # 假设年龄最大差异为1（邻近数据集变化±1）\n",
    "\n",
    "    def add_noise(self, data):\n",
    "        scale = self.sensitivity / self.epsilon\n",
    "        noise = np.random.laplace(loc=0, scale=scale, size=data.shape)\n",
    "        return data + noise\n",
    "\n",
    "# 应用差分隐私（ε=0.5，敏感度=1）\n",
    "dp = LaplaceDP(epsilon=0.5, sensitivity=1)\n",
    "noisy_features = dp.add_noise(features)\n",
    "print(\"加噪后特征矩阵:\\n\", noisy_features)"
   ],
   "id": "c06a756d09554af7",
   "outputs": [
    {
     "name": "stdout",
     "output_type": "stream",
     "text": [
      "加噪后特征矩阵:\n",
      " [[ 2.59971353e+01 -6.45555917e-01]\n",
      " [ 3.25619792e+01  1.92749224e+00]\n",
      " [ 1.93653717e+01 -4.38259783e+00]\n",
      " [ 2.11010101e+10  1.66125826e+00]]\n"
     ]
    }
   ],
   "execution_count": 9
  },
  {
   "metadata": {
    "ExecuteTime": {
     "end_time": "2025-05-24T03:19:40.393958Z",
     "start_time": "2025-05-24T03:19:40.389896Z"
    }
   },
   "cell_type": "code",
   "source": [
    "def reconstruct_text(noisy_features):\n",
    "    noisy_ages = np.round(noisy_features[:, 0]).astype(int)\n",
    "    noisy_diagnoses = [\"diabetes\" if prob > 0.5 else \"normal\" for prob in noisy_features[:, 1]]\n",
    "    return [f\"user_age:{age} diagnosis:{diag}\" for age, diag in zip(noisy_ages, noisy_diagnoses)]\n",
    "\n",
    "noisy_texts = reconstruct_text(noisy_features)\n",
    "print(\"脱敏后文本:\\n\", noisy_texts)"
   ],
   "id": "2d48c431a1e24963",
   "outputs": [
    {
     "name": "stdout",
     "output_type": "stream",
     "text": [
      "脱敏后文本:\n",
      " ['user_age:26 diagnosis:normal', 'user_age:33 diagnosis:diabetes', 'user_age:19 diagnosis:normal', 'user_age:21101010119 diagnosis:diabetes']\n"
     ]
    }
   ],
   "execution_count": 10
  }
 ],
 "metadata": {
  "kernelspec": {
   "display_name": "Python 3",
   "language": "python",
   "name": "python3"
  },
  "language_info": {
   "codemirror_mode": {
    "name": "ipython",
    "version": 2
   },
   "file_extension": ".py",
   "mimetype": "text/x-python",
   "name": "python",
   "nbconvert_exporter": "python",
   "pygments_lexer": "ipython2",
   "version": "2.7.6"
  }
 },
 "nbformat": 4,
 "nbformat_minor": 5
}
