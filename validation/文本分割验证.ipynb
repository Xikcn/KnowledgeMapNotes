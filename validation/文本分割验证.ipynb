{
 "cells": [
  {
   "metadata": {
    "ExecuteTime": {
     "end_time": "2025-05-08T14:17:12.304346Z",
     "start_time": "2025-05-08T14:17:07.275346Z"
    }
   },
   "cell_type": "code",
   "source": [
    "from TextSlicer.SemanticTextSplitter import SemanticTextSplitter\n",
    "from  TextSlicer.SimpleTextSplitter import SimpleTextSplitter\n",
    "import pandas as pd\n",
    "from IPython.display import display\n",
    "x = \"\"\"\n",
    "    # 计算机科学\n",
    "1. 哈希表\n",
    "   - 哈希表（Hash Table）是一种数据结构，通过键值对存储数据。\n",
    "   - 它使用哈希函数计算键的索引，实现O(1)时间复杂度的查找。\n",
    "   - 冲突解决方法：链地址法（Chaining）、开放寻址法（Open Addressing）。\n",
    "\n",
    "2. 深度学习\n",
    "   - 神经网络由输入层、隐藏层、输出层组成。\n",
    "   - 反向传播用于优化模型参数。\n",
    "   - 常见框架：PyTorch、TensorFlow。\n",
    "\n",
    "# 数学\n",
    "1. 贝叶斯定理\n",
    "   - P(A|B) = P(B|A) * P(A) / P(B)\n",
    "   - 用于概率推断，如垃圾邮件分类。\n",
    "\n",
    "2. 线性代数\n",
    "   - 矩阵乘法不满足交换律：A×B ≠ B×A。\n",
    "   - 特征值和特征向量：Av = λv。\n",
    "    \"\"\"\n",
    "splitter = SimpleTextSplitter(max_tokens = 50, min_tokens = 10,overlap_tokens = 5)\n",
    "splitter2 = SemanticTextSplitter(max_tokens = 50, min_tokens = 10,overlap_tokens = 5)\n",
    "data1 = splitter.split_text(x)\n",
    "data2 = splitter2.split_text(x)\n",
    "\n",
    "# 提取纯文本\n",
    "texts1 = [t[1] for t in data1]\n",
    "texts2 = [t[1] for t in data2]\n",
    "\n",
    "# 创建DataFrame\n",
    "max_len = max(len(texts1), len(texts2))\n",
    "df = pd.DataFrame({\n",
    "    'SimpleTextSplitter': texts1 + ['']*(max_len-len(texts1)),\n",
    "    'SemanticTextSplitter': texts2 + ['']*(max_len-len(texts2))\n",
    "})\n",
    "\n",
    "# 设置显示格式\n",
    "def format_text(text):\n",
    "    return text.replace('\\n', '<br>').replace(' ', '&nbsp;')\n",
    "\n",
    "# 应用样式\n",
    "styled_df = df.style\\\n",
    "    .set_properties(**{'text-align': 'left', 'vertical-align': 'top'})\\\n",
    "    .format({'SimpleTextSplitter': format_text, 'SemanticTextSplitter': format_text})\\\n",
    "    .hide(axis=\"index\")\\\n",
    "    .set_table_styles([{\n",
    "        'selector': 'td',\n",
    "        'props': [('border', '1px solid #cccccc'), ('padding', '5px')]\n",
    "    }])\n",
    "\n",
    "# 在Jupyter中显示\n",
    "display(styled_df)\n"
   ],
   "id": "57c72bc312670aa6",
   "outputs": [
    {
     "data": {
      "text/plain": [
       "<pandas.io.formats.style.Styler at 0x27a278eb590>"
      ],
      "text/html": [
       "<style type=\"text/css\">\n",
       "#T_c0142 td {\n",
       "  border: 1px solid #cccccc;\n",
       "  padding: 5px;\n",
       "}\n",
       "#T_c0142_row0_col0, #T_c0142_row0_col1, #T_c0142_row1_col0, #T_c0142_row1_col1, #T_c0142_row2_col0, #T_c0142_row2_col1, #T_c0142_row3_col0, #T_c0142_row3_col1, #T_c0142_row4_col0, #T_c0142_row4_col1, #T_c0142_row5_col0, #T_c0142_row5_col1, #T_c0142_row6_col0, #T_c0142_row6_col1, #T_c0142_row7_col0, #T_c0142_row7_col1, #T_c0142_row8_col0, #T_c0142_row8_col1, #T_c0142_row9_col0, #T_c0142_row9_col1, #T_c0142_row10_col0, #T_c0142_row10_col1, #T_c0142_row11_col0, #T_c0142_row11_col1 {\n",
       "  text-align: left;\n",
       "  vertical-align: top;\n",
       "}\n",
       "</style>\n",
       "<table id=\"T_c0142\">\n",
       "  <thead>\n",
       "    <tr>\n",
       "      <th id=\"T_c0142_level0_col0\" class=\"col_heading level0 col0\" >SimpleTextSplitter</th>\n",
       "      <th id=\"T_c0142_level0_col1\" class=\"col_heading level0 col1\" >SemanticTextSplitter</th>\n",
       "    </tr>\n",
       "  </thead>\n",
       "  <tbody>\n",
       "    <tr>\n",
       "      <td id=\"T_c0142_row0_col0\" class=\"data row0 col0\" >#&nbsp;计算机科学<br>1.&nbsp;哈希表<br>&nbsp;&nbsp;&nbsp;-&nbsp;哈希表（Hash&nbsp;Table）是一种数据结构，通过键值对存储数据。</td>\n",
       "      <td id=\"T_c0142_row0_col1\" class=\"data row0 col1\" ><br>&nbsp;&nbsp;&nbsp;&nbsp;#&nbsp;计算机科学<br>1.&nbsp;哈希表<br>&nbsp;&nbsp;&nbsp;-&nbsp;哈希表（Hash&nbsp;Table）是一种数据结构，通过键值对存储数据。<br></td>\n",
       "    </tr>\n",
       "    <tr>\n",
       "      <td id=\"T_c0142_row1_col0\" class=\"data row1 col0\" >种数据结构，通过键值对存储数据。<br>&nbsp;&nbsp;&nbsp;-&nbsp;它使用哈希函数计算键的索引，实现O(1)时间复杂度的查找。</td>\n",
       "      <td id=\"T_c0142_row1_col1\" class=\"data row1 col1\" >存储数据。<br>&nbsp;&nbsp;&nbsp;-&nbsp;它使用哈希函数计算键的索引，实现O(1)时间复杂度的查找。<br></td>\n",
       "    </tr>\n",
       "    <tr>\n",
       "      <td id=\"T_c0142_row2_col0\" class=\"data row2 col0\" >1)时间复杂度的查找。<br>&nbsp;&nbsp;&nbsp;-&nbsp;冲突解决方法：链地址法（Chaining）、开放寻址法（Open&nbsp;Addressing）。<br><br>2.</td>\n",
       "      <td id=\"T_c0142_row2_col1\" class=\"data row2 col1\" >度的查找。<br>&nbsp;&nbsp;&nbsp;-&nbsp;冲突解决方法：链地址法（Chaining）、开放寻址法（Open&nbsp;Addressing）。<br><br></td>\n",
       "    </tr>\n",
       "    <tr>\n",
       "      <td id=\"T_c0142_row3_col0\" class=\"data row3 col0\" >、开放寻址法（Open&nbsp;Addressing）。<br><br>2.&nbsp;深度学习<br>&nbsp;&nbsp;&nbsp;-&nbsp;神经网络由输入层、隐藏层、输出层组成。</td>\n",
       "      <td id=\"T_c0142_row3_col1\" class=\"data row3 col1\" >Open&nbsp;Addressing）。<br><br>2.&nbsp;深度学习<br>&nbsp;&nbsp;&nbsp;-&nbsp;神经网络由输入层、隐藏层、输出层组成。<br></td>\n",
       "    </tr>\n",
       "    <tr>\n",
       "      <td id=\"T_c0142_row4_col0\" class=\"data row4 col0\" >经网络由输入层、隐藏层、输出层组成。<br>&nbsp;&nbsp;&nbsp;-&nbsp;反向传播用于优化模型参数。<br>&nbsp;&nbsp;&nbsp;-&nbsp;常见框架：PyTorch、TensorFlow。</td>\n",
       "      <td id=\"T_c0142_row4_col1\" class=\"data row4 col1\" >层组成。<br>&nbsp;&nbsp;&nbsp;-&nbsp;反向传播用于优化模型参数。<br>&nbsp;&nbsp;&nbsp;-&nbsp;常见框架：PyTorch、TensorFlow。<br><br></td>\n",
       "    </tr>\n",
       "    <tr>\n",
       "      <td id=\"T_c0142_row5_col0\" class=\"data row5 col0\" >框架：PyTorch、TensorFlow。<br><br>#&nbsp;数学<br>1.</td>\n",
       "      <td id=\"T_c0142_row5_col1\" class=\"data row5 col1\" >orch、TensorFlow。<br><br>#&nbsp;数学<br>1.&nbsp;贝叶斯定理<br></td>\n",
       "    </tr>\n",
       "    <tr>\n",
       "      <td id=\"T_c0142_row6_col0\" class=\"data row6 col0\" >nsorFlow。<br><br>#&nbsp;数学<br>1.</td>\n",
       "      <td id=\"T_c0142_row6_col1\" class=\"data row6 col1\" >斯定理<br>&nbsp;&nbsp;&nbsp;-&nbsp;P(A|B)&nbsp;=&nbsp;P(B|A)&nbsp;*&nbsp;P(A)&nbsp;/&nbsp;P(B)<br>&nbsp;&nbsp;&nbsp;-&nbsp;用于概率推断，如垃圾邮件分类。<br><br></td>\n",
       "    </tr>\n",
       "    <tr>\n",
       "      <td id=\"T_c0142_row7_col0\" class=\"data row7 col0\" >low。<br><br>#&nbsp;数学<br>1.&nbsp;贝叶斯定理<br>&nbsp;&nbsp;&nbsp;-&nbsp;P(A|B)&nbsp;=&nbsp;P(B|A)&nbsp;*&nbsp;P(A)&nbsp;/&nbsp;P(B)<br>&nbsp;&nbsp;&nbsp;-&nbsp;用于概率推断，</td>\n",
       "      <td id=\"T_c0142_row7_col1\" class=\"data row7 col1\" >�邮件分类。<br><br>2.&nbsp;线性代数<br>&nbsp;&nbsp;&nbsp;-&nbsp;矩阵乘法不满足交换律：A×B&nbsp;≠&nbsp;B×A。<br></td>\n",
       "    </tr>\n",
       "    <tr>\n",
       "      <td id=\"T_c0142_row8_col0\" class=\"data row8 col0\" >A)&nbsp;/&nbsp;P(B)<br>&nbsp;&nbsp;&nbsp;-&nbsp;用于概率推断，如垃圾邮件分类。<br><br>2.</td>\n",
       "      <td id=\"T_c0142_row8_col1\" class=\"data row8 col1\" >&nbsp;≠&nbsp;B×A。<br>&nbsp;&nbsp;&nbsp;-&nbsp;特征值和特征向量：Av&nbsp;=&nbsp;λv。<br></td>\n",
       "    </tr>\n",
       "    <tr>\n",
       "      <td id=\"T_c0142_row9_col0\" class=\"data row9 col0\" >圾邮件分类。<br><br>2.&nbsp;线性代数<br>&nbsp;&nbsp;&nbsp;-&nbsp;矩阵乘法不满足交换律：A×B&nbsp;≠&nbsp;B×A。</td>\n",
       "      <td id=\"T_c0142_row9_col1\" class=\"data row9 col1\" >Av&nbsp;=&nbsp;λv。<br>&nbsp;&nbsp;&nbsp;&nbsp;</td>\n",
       "    </tr>\n",
       "    <tr>\n",
       "      <td id=\"T_c0142_row10_col0\" class=\"data row10 col0\" >B×A。<br>&nbsp;&nbsp;&nbsp;-&nbsp;特征值和特征向量：Av&nbsp;=&nbsp;λv。</td>\n",
       "      <td id=\"T_c0142_row10_col1\" class=\"data row10 col1\" ></td>\n",
       "    </tr>\n",
       "    <tr>\n",
       "      <td id=\"T_c0142_row11_col0\" class=\"data row11 col0\" ></td>\n",
       "      <td id=\"T_c0142_row11_col1\" class=\"data row11 col1\" ></td>\n",
       "    </tr>\n",
       "  </tbody>\n",
       "</table>\n"
      ]
     },
     "metadata": {},
     "output_type": "display_data"
    }
   ],
   "execution_count": 13
  },
  {
   "metadata": {
    "ExecuteTime": {
     "end_time": "2025-05-08T14:23:00.372473Z",
     "start_time": "2025-05-08T14:23:00.369169Z"
    }
   },
   "cell_type": "code",
   "source": [
    "def pk_score(reference, hypothesis, k):\n",
    "    total = len(reference) - k + 1\n",
    "    errors = sum(1 for i in range(total) if reference[i:i+k] != hypothesis[i:i+k])\n",
    "    return errors / total\n",
    "\n",
    "\n"
   ],
   "id": "45ccc2c54a1ce4a6",
   "outputs": [],
   "execution_count": 15
  },
  {
   "metadata": {
    "ExecuteTime": {
     "end_time": "2025-05-08T14:23:00.536261Z",
     "start_time": "2025-05-08T14:23:00.533961Z"
    }
   },
   "cell_type": "code",
   "source": [
    "def iou(segment_a, segment_b):\n",
    "    intersection = len(set(segment_a) & set(segment_b))\n",
    "    union = len(set(segment_a) | set(segment_b))\n",
    "    return intersection / union"
   ],
   "id": "2ed833787ada86ee",
   "outputs": [],
   "execution_count": 16
  },
  {
   "metadata": {},
   "cell_type": "code",
   "outputs": [],
   "execution_count": null,
   "source": "",
   "id": "99b61517bd43e9b4"
  }
 ],
 "metadata": {
  "kernelspec": {
   "display_name": "Python 3",
   "language": "python",
   "name": "python3"
  },
  "language_info": {
   "codemirror_mode": {
    "name": "ipython",
    "version": 2
   },
   "file_extension": ".py",
   "mimetype": "text/x-python",
   "name": "python",
   "nbconvert_exporter": "python",
   "pygments_lexer": "ipython2",
   "version": "2.7.6"
  }
 },
 "nbformat": 4,
 "nbformat_minor": 5
}
